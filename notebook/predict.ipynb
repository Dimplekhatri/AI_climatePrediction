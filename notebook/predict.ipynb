{
 "cells": [
  {
   "cell_type": "code",
   "execution_count": 1,
   "metadata": {},
   "outputs": [],
   "source": [
    "import pandas as pd\n",
    "import numpy as np"
   ]
  },
  {
   "cell_type": "code",
   "execution_count": 2,
   "metadata": {},
   "outputs": [
    {
     "data": {
      "text/html": [
       "<div>\n",
       "<style scoped>\n",
       "    .dataframe tbody tr th:only-of-type {\n",
       "        vertical-align: middle;\n",
       "    }\n",
       "\n",
       "    .dataframe tbody tr th {\n",
       "        vertical-align: top;\n",
       "    }\n",
       "\n",
       "    .dataframe thead th {\n",
       "        text-align: right;\n",
       "    }\n",
       "</style>\n",
       "<table border=\"1\" class=\"dataframe\">\n",
       "  <thead>\n",
       "    <tr style=\"text-align: right;\">\n",
       "      <th></th>\n",
       "      <th>LAT</th>\n",
       "      <th>LON</th>\n",
       "      <th>YEAR</th>\n",
       "      <th>MO</th>\n",
       "      <th>DY</th>\n",
       "      <th>WS2M</th>\n",
       "      <th>T2M</th>\n",
       "      <th>RH2M</th>\n",
       "      <th>PS</th>\n",
       "      <th>T2MDEW</th>\n",
       "      <th>PRECTOTCORR</th>\n",
       "    </tr>\n",
       "  </thead>\n",
       "  <tbody>\n",
       "    <tr>\n",
       "      <th>0</th>\n",
       "      <td>26.25</td>\n",
       "      <td>73.25</td>\n",
       "      <td>2023</td>\n",
       "      <td>11</td>\n",
       "      <td>1</td>\n",
       "      <td>1.07</td>\n",
       "      <td>28.10</td>\n",
       "      <td>37.71</td>\n",
       "      <td>98.58</td>\n",
       "      <td>11.16</td>\n",
       "      <td>0.0</td>\n",
       "    </tr>\n",
       "    <tr>\n",
       "      <th>1</th>\n",
       "      <td>26.25</td>\n",
       "      <td>73.75</td>\n",
       "      <td>2023</td>\n",
       "      <td>11</td>\n",
       "      <td>1</td>\n",
       "      <td>1.30</td>\n",
       "      <td>27.19</td>\n",
       "      <td>41.41</td>\n",
       "      <td>97.94</td>\n",
       "      <td>11.53</td>\n",
       "      <td>0.0</td>\n",
       "    </tr>\n",
       "    <tr>\n",
       "      <th>2</th>\n",
       "      <td>26.25</td>\n",
       "      <td>74.25</td>\n",
       "      <td>2023</td>\n",
       "      <td>11</td>\n",
       "      <td>1</td>\n",
       "      <td>1.44</td>\n",
       "      <td>26.11</td>\n",
       "      <td>42.86</td>\n",
       "      <td>97.04</td>\n",
       "      <td>11.19</td>\n",
       "      <td>0.0</td>\n",
       "    </tr>\n",
       "    <tr>\n",
       "      <th>3</th>\n",
       "      <td>26.25</td>\n",
       "      <td>74.75</td>\n",
       "      <td>2023</td>\n",
       "      <td>11</td>\n",
       "      <td>1</td>\n",
       "      <td>1.44</td>\n",
       "      <td>25.82</td>\n",
       "      <td>41.78</td>\n",
       "      <td>97.00</td>\n",
       "      <td>10.55</td>\n",
       "      <td>0.0</td>\n",
       "    </tr>\n",
       "    <tr>\n",
       "      <th>4</th>\n",
       "      <td>26.25</td>\n",
       "      <td>75.25</td>\n",
       "      <td>2023</td>\n",
       "      <td>11</td>\n",
       "      <td>1</td>\n",
       "      <td>1.40</td>\n",
       "      <td>25.72</td>\n",
       "      <td>41.80</td>\n",
       "      <td>97.43</td>\n",
       "      <td>10.41</td>\n",
       "      <td>0.0</td>\n",
       "    </tr>\n",
       "  </tbody>\n",
       "</table>\n",
       "</div>"
      ],
      "text/plain": [
       "     LAT    LON  YEAR  MO  DY  WS2M    T2M   RH2M     PS  T2MDEW  PRECTOTCORR\n",
       "0  26.25  73.25  2023  11   1  1.07  28.10  37.71  98.58   11.16          0.0\n",
       "1  26.25  73.75  2023  11   1  1.30  27.19  41.41  97.94   11.53          0.0\n",
       "2  26.25  74.25  2023  11   1  1.44  26.11  42.86  97.04   11.19          0.0\n",
       "3  26.25  74.75  2023  11   1  1.44  25.82  41.78  97.00   10.55          0.0\n",
       "4  26.25  75.25  2023  11   1  1.40  25.72  41.80  97.43   10.41          0.0"
      ]
     },
     "execution_count": 2,
     "metadata": {},
     "output_type": "execute_result"
    }
   ],
   "source": [
    "climate_data = pd.read_csv(\"regional_data.csv\")\n",
    "climate_data.head()"
   ]
  },
  {
   "cell_type": "code",
   "execution_count": 3,
   "metadata": {},
   "outputs": [],
   "source": [
    "climate_data['WS2M_Change'] = climate_data['WS2M'].diff().fillna(0)\n",
    "climate_data['T2M_Change'] = climate_data['T2M'].diff().fillna(0)\n",
    "climate_data['Precip_Change'] = climate_data['PRECTOTCORR'].diff().fillna(0)"
   ]
  },
  {
   "cell_type": "code",
   "execution_count": 5,
   "metadata": {},
   "outputs": [
    {
     "data": {
      "text/html": [
       "<div>\n",
       "<style scoped>\n",
       "    .dataframe tbody tr th:only-of-type {\n",
       "        vertical-align: middle;\n",
       "    }\n",
       "\n",
       "    .dataframe tbody tr th {\n",
       "        vertical-align: top;\n",
       "    }\n",
       "\n",
       "    .dataframe thead th {\n",
       "        text-align: right;\n",
       "    }\n",
       "</style>\n",
       "<table border=\"1\" class=\"dataframe\">\n",
       "  <thead>\n",
       "    <tr style=\"text-align: right;\">\n",
       "      <th></th>\n",
       "      <th>LAT</th>\n",
       "      <th>LON</th>\n",
       "      <th>YEAR</th>\n",
       "      <th>MO</th>\n",
       "      <th>DY</th>\n",
       "      <th>WS2M</th>\n",
       "      <th>T2M</th>\n",
       "      <th>RH2M</th>\n",
       "      <th>PS</th>\n",
       "      <th>T2MDEW</th>\n",
       "      <th>PRECTOTCORR</th>\n",
       "      <th>WS2M_Change</th>\n",
       "      <th>T2M_Change</th>\n",
       "      <th>Precip_Change</th>\n",
       "    </tr>\n",
       "  </thead>\n",
       "  <tbody>\n",
       "    <tr>\n",
       "      <th>0</th>\n",
       "      <td>26.25</td>\n",
       "      <td>73.25</td>\n",
       "      <td>2023</td>\n",
       "      <td>11</td>\n",
       "      <td>1</td>\n",
       "      <td>1.07</td>\n",
       "      <td>28.10</td>\n",
       "      <td>37.71</td>\n",
       "      <td>98.58</td>\n",
       "      <td>11.16</td>\n",
       "      <td>0.0</td>\n",
       "      <td>0.00</td>\n",
       "      <td>0.00</td>\n",
       "      <td>0.0</td>\n",
       "    </tr>\n",
       "    <tr>\n",
       "      <th>1</th>\n",
       "      <td>26.25</td>\n",
       "      <td>73.75</td>\n",
       "      <td>2023</td>\n",
       "      <td>11</td>\n",
       "      <td>1</td>\n",
       "      <td>1.30</td>\n",
       "      <td>27.19</td>\n",
       "      <td>41.41</td>\n",
       "      <td>97.94</td>\n",
       "      <td>11.53</td>\n",
       "      <td>0.0</td>\n",
       "      <td>0.23</td>\n",
       "      <td>-0.91</td>\n",
       "      <td>0.0</td>\n",
       "    </tr>\n",
       "    <tr>\n",
       "      <th>2</th>\n",
       "      <td>26.25</td>\n",
       "      <td>74.25</td>\n",
       "      <td>2023</td>\n",
       "      <td>11</td>\n",
       "      <td>1</td>\n",
       "      <td>1.44</td>\n",
       "      <td>26.11</td>\n",
       "      <td>42.86</td>\n",
       "      <td>97.04</td>\n",
       "      <td>11.19</td>\n",
       "      <td>0.0</td>\n",
       "      <td>0.14</td>\n",
       "      <td>-1.08</td>\n",
       "      <td>0.0</td>\n",
       "    </tr>\n",
       "    <tr>\n",
       "      <th>3</th>\n",
       "      <td>26.25</td>\n",
       "      <td>74.75</td>\n",
       "      <td>2023</td>\n",
       "      <td>11</td>\n",
       "      <td>1</td>\n",
       "      <td>1.44</td>\n",
       "      <td>25.82</td>\n",
       "      <td>41.78</td>\n",
       "      <td>97.00</td>\n",
       "      <td>10.55</td>\n",
       "      <td>0.0</td>\n",
       "      <td>0.00</td>\n",
       "      <td>-0.29</td>\n",
       "      <td>0.0</td>\n",
       "    </tr>\n",
       "    <tr>\n",
       "      <th>4</th>\n",
       "      <td>26.25</td>\n",
       "      <td>75.25</td>\n",
       "      <td>2023</td>\n",
       "      <td>11</td>\n",
       "      <td>1</td>\n",
       "      <td>1.40</td>\n",
       "      <td>25.72</td>\n",
       "      <td>41.80</td>\n",
       "      <td>97.43</td>\n",
       "      <td>10.41</td>\n",
       "      <td>0.0</td>\n",
       "      <td>-0.04</td>\n",
       "      <td>-0.10</td>\n",
       "      <td>0.0</td>\n",
       "    </tr>\n",
       "  </tbody>\n",
       "</table>\n",
       "</div>"
      ],
      "text/plain": [
       "     LAT    LON  YEAR  MO  DY  WS2M    T2M   RH2M     PS  T2MDEW  PRECTOTCORR  \\\n",
       "0  26.25  73.25  2023  11   1  1.07  28.10  37.71  98.58   11.16          0.0   \n",
       "1  26.25  73.75  2023  11   1  1.30  27.19  41.41  97.94   11.53          0.0   \n",
       "2  26.25  74.25  2023  11   1  1.44  26.11  42.86  97.04   11.19          0.0   \n",
       "3  26.25  74.75  2023  11   1  1.44  25.82  41.78  97.00   10.55          0.0   \n",
       "4  26.25  75.25  2023  11   1  1.40  25.72  41.80  97.43   10.41          0.0   \n",
       "\n",
       "   WS2M_Change  T2M_Change  Precip_Change  \n",
       "0         0.00        0.00            0.0  \n",
       "1         0.23       -0.91            0.0  \n",
       "2         0.14       -1.08            0.0  \n",
       "3         0.00       -0.29            0.0  \n",
       "4        -0.04       -0.10            0.0  "
      ]
     },
     "execution_count": 5,
     "metadata": {},
     "output_type": "execute_result"
    }
   ],
   "source": [
    "climate_data.head()"
   ]
  },
  {
   "cell_type": "code",
   "execution_count": 7,
   "metadata": {},
   "outputs": [],
   "source": [
    "data_cleaned = climate_data.replace(-999.0, np.nan)"
   ]
  },
  {
   "cell_type": "code",
   "execution_count": 8,
   "metadata": {},
   "outputs": [],
   "source": [
    "data_cleaned.to_csv(\"processed_climate_data.csv\", index=False)\n"
   ]
  },
  {
   "cell_type": "code",
   "execution_count": 10,
   "metadata": {},
   "outputs": [],
   "source": [
    "data = pd.read_csv(\"processed_climate_data.csv\")\n",
    "\n",
    "ws2m_std = data['WS2M_Change'].std()\n",
    "t2m_std = data['T2M_Change'].std()\n",
    "precip_std = data['Precip_Change'].std()\n",
    "\n",
    "ws2m_mean = data['WS2M_Change'].mean()\n",
    "t2m_mean = data['T2M_Change'].mean()\n",
    "precip_mean = data['Precip_Change'].mean()"
   ]
  },
  {
   "cell_type": "code",
   "execution_count": 11,
   "metadata": {},
   "outputs": [],
   "source": [
    "ws2m_increase_threshold = ws2m_mean + ws2m_std\n",
    "ws2m_decrease_threshold = ws2m_mean - ws2m_std\n",
    "\n",
    "t2m_increase_threshold = t2m_mean + t2m_std\n",
    "t2m_decrease_threshold = t2m_mean - t2m_std\n",
    "\n",
    "precip_increase_threshold = precip_mean + precip_std\n",
    "precip_decrease_threshold = precip_mean - precip_std"
   ]
  },
  {
   "cell_type": "code",
   "execution_count": 12,
   "metadata": {},
   "outputs": [],
   "source": [
    "def classify_event(row):\n",
    "    if row['WS2M_Change'] > ws2m_increase_threshold:\n",
    "        return \"Wind Increase\"\n",
    "    elif row['WS2M_Change'] < ws2m_decrease_threshold:\n",
    "        return \"Wind Decrease\"\n",
    "    elif row['T2M_Change'] > t2m_increase_threshold:\n",
    "        return \"Temp Increase\"\n",
    "    elif row['T2M_Change'] < t2m_decrease_threshold:\n",
    "        return \"Temp Decrease\"\n",
    "    elif row['Precip_Change'] > precip_increase_threshold:\n",
    "        return \"Rain Predicted\"\n",
    "    elif row['Precip_Change'] < precip_decrease_threshold:\n",
    "        return \"Dry Conditions\"\n",
    "    else:\n",
    "        return \"Normal\""
   ]
  },
  {
   "cell_type": "code",
   "execution_count": 13,
   "metadata": {},
   "outputs": [],
   "source": [
    "data['Event'] = data.apply(classify_event, axis=1)"
   ]
  },
  {
   "cell_type": "code",
   "execution_count": 14,
   "metadata": {},
   "outputs": [
    {
     "name": "stdout",
     "output_type": "stream",
     "text": [
      "WARNING:tensorflow:Please fix your imports. Module tensorflow.python.training.tracking.autotrackable has been moved to tensorflow.python.trackable.autotrackable. The old module will be deleted in version 2.11.\n",
      "WARNING:tensorflow:Please fix your imports. Module tensorflow.python.training.tracking.base has been moved to tensorflow.python.trackable.base. The old module will be deleted in version 2.11.\n",
      "WARNING:tensorflow:Please fix your imports. Module tensorflow.python.training.tracking.base_delegate has been moved to tensorflow.python.trackable.base_delegate. The old module will be deleted in version 2.11.\n",
      "WARNING:tensorflow:Please fix your imports. Module tensorflow.python.training.tracking.data_structures has been moved to tensorflow.python.trackable.data_structures. The old module will be deleted in version 2.11.\n",
      "WARNING:tensorflow:Please fix your imports. Module tensorflow.python.training.tracking.graph_view has been moved to tensorflow.python.checkpoint.graph_view. The old module will be deleted in version 2.11.\n",
      "WARNING:tensorflow:Please fix your imports. Module tensorflow.python.training.tracking.util has been moved to tensorflow.python.checkpoint.checkpoint. The old module will be deleted in version 2.11.\n",
      "WARNING:tensorflow:Please fix your imports. Module tensorflow.python.training.checkpoint_management has been moved to tensorflow.python.checkpoint.checkpoint_management. The old module will be deleted in version 2.9.\n",
      "WARNING:tensorflow:Please fix your imports. Module tensorflow.python.training.tracking.resource has been moved to tensorflow.python.trackable.resource. The old module will be deleted in version 2.11.\n",
      "WARNING:tensorflow:Please fix your imports. Module tensorflow.python.training.tracking.asset has been moved to tensorflow.python.trackable.asset. The old module will be deleted in version 2.11.\n",
      "WARNING:tensorflow:Please fix your imports. Module tensorflow.python.training.tracking.python_state has been moved to tensorflow.python.trackable.python_state. The old module will be deleted in version 2.11.\n",
      "WARNING:tensorflow:Please fix your imports. Module tensorflow.python.training.saving.checkpoint_options has been moved to tensorflow.python.checkpoint.checkpoint_options. The old module will be deleted in version 2.11.\n"
     ]
    }
   ],
   "source": [
    "from sklearn.model_selection import train_test_split\n",
    "from tensorflow.keras.models import Sequential\n",
    "from tensorflow.keras.layers import Dense, Input\n",
    "from tensorflow.keras.utils import to_categorical"
   ]
  },
  {
   "cell_type": "code",
   "execution_count": 15,
   "metadata": {},
   "outputs": [],
   "source": [
    "features = data[['WS2M_Change', 'T2M_Change', 'Precip_Change']].fillna(0)  \n",
    "labels = data['Event'].astype('category').cat.codes  \n",
    "labels_encoded = to_categorical(labels)  \n",
    "\n",
    "X_train, X_test, y_train, y_test = train_test_split(features, labels_encoded, test_size=0.2, random_state=42)"
   ]
  },
  {
   "cell_type": "code",
   "execution_count": 17,
   "metadata": {},
   "outputs": [
    {
     "name": "stdout",
     "output_type": "stream",
     "text": [
      "Epoch 1/20\n",
      "1318/1318 [==============================] - 3s 2ms/step - loss: 0.1459 - accuracy: 0.9887 - val_loss: 0.0132 - val_accuracy: 0.9959\n",
      "Epoch 2/20\n",
      "1318/1318 [==============================] - 2s 2ms/step - loss: 0.0171 - accuracy: 0.9963 - val_loss: 0.0080 - val_accuracy: 0.9977\n",
      "Epoch 3/20\n",
      "1318/1318 [==============================] - 2s 2ms/step - loss: 0.0090 - accuracy: 0.9970 - val_loss: 0.0100 - val_accuracy: 0.9959\n",
      "Epoch 4/20\n",
      "1318/1318 [==============================] - 2s 2ms/step - loss: 0.0072 - accuracy: 0.9974 - val_loss: 0.0056 - val_accuracy: 0.9977\n",
      "Epoch 5/20\n",
      "1318/1318 [==============================] - 2s 2ms/step - loss: 0.0079 - accuracy: 0.9974 - val_loss: 0.0049 - val_accuracy: 0.9994\n",
      "Epoch 6/20\n",
      "1318/1318 [==============================] - 2s 1ms/step - loss: 0.0061 - accuracy: 0.9979 - val_loss: 0.0057 - val_accuracy: 0.9991\n",
      "Epoch 7/20\n",
      "1318/1318 [==============================] - 3s 2ms/step - loss: 0.0066 - accuracy: 0.9975 - val_loss: 0.0070 - val_accuracy: 0.9979\n",
      "Epoch 8/20\n",
      "1318/1318 [==============================] - 2s 2ms/step - loss: 0.0066 - accuracy: 0.9977 - val_loss: 0.0364 - val_accuracy: 0.9925\n",
      "Epoch 9/20\n",
      "1318/1318 [==============================] - 2s 2ms/step - loss: 0.0081 - accuracy: 0.9969 - val_loss: 0.0061 - val_accuracy: 0.9979\n",
      "Epoch 10/20\n",
      "1318/1318 [==============================] - 3s 2ms/step - loss: 0.0061 - accuracy: 0.9979 - val_loss: 0.0045 - val_accuracy: 0.9991\n",
      "Epoch 11/20\n",
      "1318/1318 [==============================] - 2s 2ms/step - loss: 0.0052 - accuracy: 0.9981 - val_loss: 0.0058 - val_accuracy: 0.9970\n",
      "Epoch 12/20\n",
      "1318/1318 [==============================] - 2s 2ms/step - loss: 0.0052 - accuracy: 0.9980 - val_loss: 0.0050 - val_accuracy: 0.9977\n",
      "Epoch 13/20\n",
      "1318/1318 [==============================] - 2s 1ms/step - loss: 0.0067 - accuracy: 0.9976 - val_loss: 0.0042 - val_accuracy: 0.9981\n",
      "Epoch 14/20\n",
      "1318/1318 [==============================] - 3s 2ms/step - loss: 0.0062 - accuracy: 0.9978 - val_loss: 0.0043 - val_accuracy: 0.9981\n",
      "Epoch 15/20\n",
      "1318/1318 [==============================] - 3s 2ms/step - loss: 0.0064 - accuracy: 0.9977 - val_loss: 0.0058 - val_accuracy: 0.9981\n",
      "Epoch 16/20\n",
      "1318/1318 [==============================] - 2s 2ms/step - loss: 0.0062 - accuracy: 0.9979 - val_loss: 0.0061 - val_accuracy: 0.9979\n",
      "Epoch 17/20\n",
      "1318/1318 [==============================] - 2s 2ms/step - loss: 0.0048 - accuracy: 0.9980 - val_loss: 0.0037 - val_accuracy: 0.9979\n",
      "Epoch 18/20\n",
      "1318/1318 [==============================] - 2s 2ms/step - loss: 0.0050 - accuracy: 0.9980 - val_loss: 0.0036 - val_accuracy: 0.9983\n",
      "Epoch 19/20\n",
      "1318/1318 [==============================] - 3s 2ms/step - loss: 0.0049 - accuracy: 0.9983 - val_loss: 0.0043 - val_accuracy: 0.9983\n",
      "Epoch 20/20\n",
      "1318/1318 [==============================] - 2s 2ms/step - loss: 0.0049 - accuracy: 0.9981 - val_loss: 0.0019 - val_accuracy: 1.0000\n"
     ]
    },
    {
     "data": {
      "text/plain": [
       "<keras.callbacks.History at 0x1c427857760>"
      ]
     },
     "execution_count": 17,
     "metadata": {},
     "output_type": "execute_result"
    }
   ],
   "source": [
    "model = Sequential([\n",
    "    Input(shape=(X_train.shape[1],)), \n",
    "    Dense(64, activation='relu'),\n",
    "    Dense(32, activation='relu'),\n",
    "    Dense(labels_encoded.shape[1], activation='softmax')  \n",
    "])\n",
    "\n",
    "model.compile(optimizer='adam', loss='categorical_crossentropy', metrics=['accuracy'])\n",
    "\n",
    "model.fit(X_train, y_train, epochs=20, batch_size=32, validation_split=0.1)"
   ]
  },
  {
   "cell_type": "code",
   "execution_count": 18,
   "metadata": {},
   "outputs": [
    {
     "name": "stdout",
     "output_type": "stream",
     "text": [
      "366/366 [==============================] - 1s 3ms/step - loss: 0.4625 - accuracy: 0.9986\n",
      "Test Loss: 0.4625018537044525\n",
      "Test Accuracy: 0.998633861541748\n"
     ]
    }
   ],
   "source": [
    "loss, accuracy = model.evaluate(X_test, y_test)\n",
    "print(f\"Test Loss: {loss}\")\n",
    "print(f\"Test Accuracy: {accuracy}\")"
   ]
  },
  {
   "cell_type": "code",
   "execution_count": 19,
   "metadata": {},
   "outputs": [],
   "source": [
    "# Save the model to a file\n",
    "model.save('climate_event_model.h5')\n"
   ]
  },
  {
   "cell_type": "code",
   "execution_count": null,
   "metadata": {},
   "outputs": [],
   "source": []
  }
 ],
 "metadata": {
  "kernelspec": {
   "display_name": "Python 3",
   "language": "python",
   "name": "python3"
  },
  "language_info": {
   "codemirror_mode": {
    "name": "ipython",
    "version": 3
   },
   "file_extension": ".py",
   "mimetype": "text/x-python",
   "name": "python",
   "nbconvert_exporter": "python",
   "pygments_lexer": "ipython3",
   "version": "3.10.7"
  }
 },
 "nbformat": 4,
 "nbformat_minor": 2
}
